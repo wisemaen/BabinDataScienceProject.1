{
 "cells": [
  {
   "cell_type": "markdown",
   "id": "2d094dc3-688f-4974-aa4f-439517f48d73",
   "metadata": {},
   "source": [
    "# Data Science Tools and Ecosytem"
   ]
  },
  {
   "cell_type": "markdown",
   "id": "56a83a92-2869-43ee-9aa5-24f22fa6ea80",
   "metadata": {},
   "source": [
    "***In this notebook, Data Science tools are summarized.***"
   ]
  },
  {
   "cell_type": "markdown",
   "id": "d766aaa9-78ff-4cb1-b1ad-26fe6a538f3a",
   "metadata": {},
   "source": [
    "Some of the popular languages that Data Scientists use are:\n",
    "<br>1.) Python\n",
    "<br>2.) Julia\n",
    "<br>3.) R"
   ]
  },
  {
   "cell_type": "markdown",
   "id": "391e1381-248d-4a26-925b-0ae45bd4ca92",
   "metadata": {},
   "source": [
    "Some common libraries Data Scientists use are:\n",
    "<br>1.) NumPy\n",
    "<br>2.) Pandas\n",
    "<br>3.) Apache Spark"
   ]
  },
  {
   "cell_type": "markdown",
   "id": "82a93aee-5cb6-4e13-a7e8-b3cf75f34732",
   "metadata": {},
   "source": [
    "| Data Science Tools|\n",
    "|--- |\n",
    "|1.) Anaconda |\n",
    "|2.) R Studio |\n",
    "|3.) Spyder |"
   ]
  },
  {
   "cell_type": "markdown",
   "id": "b0071a74-5429-4c2b-9e23-cc7b7797704d",
   "metadata": {},
   "source": [
    "### Below are a few examples of evaluating arithmetic expressions in Python."
   ]
  },
  {
   "cell_type": "code",
   "execution_count": 2,
   "id": "c0f295e0-c80d-4383-9e97-d82f5ea44a1c",
   "metadata": {},
   "outputs": [
    {
     "data": {
      "text/plain": [
       "17"
      ]
     },
     "execution_count": 2,
     "metadata": {},
     "output_type": "execute_result"
    }
   ],
   "source": [
    "###This is a simple arithmetic expression.###\n",
    "(3*4)+5"
   ]
  },
  {
   "cell_type": "code",
   "execution_count": 3,
   "id": "13dec1f7-b01f-426f-99f9-572a983c5bb1",
   "metadata": {},
   "outputs": [
    {
     "data": {
      "text/plain": [
       "3.3333333333333335"
      ]
     },
     "execution_count": 3,
     "metadata": {},
     "output_type": "execute_result"
    }
   ],
   "source": [
    "### This will convert 200 minutes to hours by dividng by 60. ###\n",
    "200/60"
   ]
  },
  {
   "cell_type": "markdown",
   "id": "3de8da3e-5bb5-4999-9794-39bd30c07995",
   "metadata": {},
   "source": [
    "**Objectives**\n",
    "<br> * Data Languages\n",
    "<br> * Data Environments\n",
    "<br> * Data Tools"
   ]
  },
  {
   "cell_type": "markdown",
   "id": "ff8b1a44-a855-45ec-ab53-4be7a48f50ca",
   "metadata": {},
   "source": [
    "## Author\n",
    "<br>Brendan Babin"
   ]
  },
  {
   "cell_type": "code",
   "execution_count": null,
   "id": "54e5578d-1719-4ff5-8a82-0573c48161a0",
   "metadata": {},
   "outputs": [],
   "source": []
  }
 ],
 "metadata": {
  "kernelspec": {
   "display_name": "",
   "name": ""
  },
  "language_info": {
   "name": ""
  }
 },
 "nbformat": 4,
 "nbformat_minor": 5
}
